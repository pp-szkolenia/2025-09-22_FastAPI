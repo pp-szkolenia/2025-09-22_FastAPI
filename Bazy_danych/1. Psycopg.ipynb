{
 "cells": [
  {
   "cell_type": "markdown",
   "id": "ba30e6d7-ccdf-4e7f-b8c1-1f4703e08b1b",
   "metadata": {},
   "source": [
    "# Psycopg – wykonywanie SQL w Pythonie\n",
    "\n",
    "Biblioteka służąca do wykonywania kodu SQL na bazie danych z poziomu Pythona. Jest przystosowana wyłącznie do pracy z systemem PostgreSQL. Inne systemy mają swoje odpowiedniki, np.:\n",
    "\n",
    "- [MySQL](https://pypi.org/project/mysql-connector-python/)\n",
    "- [Oracle](https://pypi.org/project/oracledb/)\n",
    "\n",
    "\n",
    "Najnowsza wersja ma numer 3 ([PyPI](https://pypi.org/project/psycopg/)) chociaż cały czas popularna jest wersja 2 ([PyPI](https://pypi.org/project/psycopg2/))."
   ]
  },
  {
   "cell_type": "code",
   "execution_count": 9,
   "id": "a22892ce-5c62-4939-bffd-2b96478e7823",
   "metadata": {},
   "outputs": [],
   "source": [
    "import psycopg"
   ]
  },
  {
   "cell_type": "code",
   "execution_count": 10,
   "id": "87e35fed-5b73-4a29-a2e0-5260d91d179a",
   "metadata": {},
   "outputs": [],
   "source": [
    "conn = psycopg.connect(dbname=\"postgres\", user=\"postgres\", password=\"postgres\", host=\"localhost\")\n",
    "\n",
    "cursor = conn.cursor()"
   ]
  },
  {
   "cell_type": "markdown",
   "id": "7f2ba529-0308-4aed-8475-7b06195f205e",
   "metadata": {},
   "source": [
    "## Zapytania SQL"
   ]
  },
  {
   "cell_type": "markdown",
   "id": "575876b6-c696-4483-8907-5636c8394d2b",
   "metadata": {},
   "source": [
    "### CREATE"
   ]
  },
  {
   "cell_type": "code",
   "execution_count": 12,
   "id": "cad40154-338a-4660-a0af-1be006a36d6a",
   "metadata": {},
   "outputs": [],
   "source": [
    "create_query = \"\"\"CREATE TABLE tasks(\n",
    "    id SERIAL,\n",
    "    description TEXT,\n",
    "    priority SMALLINT,\n",
    "    is_completed BOOLEAN\n",
    ")\n",
    "\"\"\""
   ]
  },
  {
   "cell_type": "code",
   "execution_count": 13,
   "id": "d2490a28-cf8a-4c01-b496-5cd3aeaeecd6",
   "metadata": {},
   "outputs": [],
   "source": [
    "cursor.execute(create_query)\n",
    "conn.commit()"
   ]
  },
  {
   "cell_type": "code",
   "execution_count": 14,
   "id": "67a8d462-b556-4306-b026-086ba58b78a2",
   "metadata": {},
   "outputs": [],
   "source": [
    "create_query = \"\"\"CREATE TABLE users(\n",
    "    id SERIAL,\n",
    "    username VARCHAR(16),\n",
    "    password VARCHAR(36),\n",
    "    is_admin BOOLEAN\n",
    ")\n",
    "\"\"\""
   ]
  },
  {
   "cell_type": "code",
   "execution_count": 15,
   "id": "b98b7755-8f17-4f43-9597-0fe15727b94a",
   "metadata": {},
   "outputs": [],
   "source": [
    "cursor.execute(create_query)\n",
    "conn.commit()"
   ]
  },
  {
   "cell_type": "markdown",
   "id": "57f1f426-f9d9-4c8a-a629-3691cedfa0de",
   "metadata": {},
   "source": [
    "### INSERT"
   ]
  },
  {
   "cell_type": "code",
   "execution_count": 16,
   "id": "3cec283b-6d73-4721-a0a1-970831e19877",
   "metadata": {},
   "outputs": [],
   "source": [
    "insert_query = \"INSERT INTO tasks(description, priority, is_completed) VALUES('Opis zadania', 2, true)\""
   ]
  },
  {
   "cell_type": "code",
   "execution_count": 17,
   "id": "730fe85c-7dce-4655-b4e6-1b0cfe095ba2",
   "metadata": {},
   "outputs": [],
   "source": [
    "cursor.execute(insert_query)\n",
    "conn.commit()"
   ]
  },
  {
   "cell_type": "markdown",
   "id": "d1bd97ee-157c-4c75-984c-d0b5d87b313d",
   "metadata": {},
   "source": [
    "#### Klauzula `RETURNING`"
   ]
  },
  {
   "cell_type": "code",
   "execution_count": 19,
   "id": "c0f65d6c-b7ab-4158-be9c-b58d941e1f6d",
   "metadata": {},
   "outputs": [],
   "source": [
    "insert_query = \"\"\"INSERT INTO tasks (description, priority, is_completed)\n",
    "                  VALUES ('Zrobić obiad', 3, false)  RETURNING *\"\"\""
   ]
  },
  {
   "cell_type": "code",
   "execution_count": 20,
   "id": "fbf38f2d-8e67-412d-9934-bf7ff0c1f4c7",
   "metadata": {},
   "outputs": [
    {
     "data": {
      "text/plain": [
       "(2, 'Zrobić obiad', 3, False)"
      ]
     },
     "execution_count": 20,
     "metadata": {},
     "output_type": "execute_result"
    }
   ],
   "source": [
    "cursor.execute(insert_query)\n",
    "\n",
    "record = cursor.fetchone()\n",
    "record"
   ]
  },
  {
   "cell_type": "code",
   "execution_count": 21,
   "id": "71aafb9c-9b0e-459c-abcc-f9391301c7e1",
   "metadata": {},
   "outputs": [
    {
     "data": {
      "text/plain": [
       "2"
      ]
     },
     "execution_count": 21,
     "metadata": {},
     "output_type": "execute_result"
    }
   ],
   "source": [
    "record[0]"
   ]
  },
  {
   "cell_type": "code",
   "execution_count": 22,
   "id": "f069e758-bbcd-4da2-9080-b34d55ed7102",
   "metadata": {},
   "outputs": [],
   "source": [
    "conn.commit()"
   ]
  },
  {
   "cell_type": "markdown",
   "id": "cd411b23-0d71-4c40-9297-669d7bae9bf0",
   "metadata": {},
   "source": [
    "### SELECT"
   ]
  },
  {
   "cell_type": "code",
   "execution_count": 24,
   "id": "a2061806-7761-4983-b45a-9f9089cce6c1",
   "metadata": {},
   "outputs": [],
   "source": [
    "select_query = \"SELECT * FROM tasks\""
   ]
  },
  {
   "cell_type": "code",
   "execution_count": 26,
   "id": "2e2aed23-055d-4b4b-a25d-3cd68275eaf0",
   "metadata": {},
   "outputs": [],
   "source": [
    "cursor.execute(select_query)\n",
    "\n",
    "results = cursor.fetchall()"
   ]
  },
  {
   "cell_type": "code",
   "execution_count": 27,
   "id": "dfed3e55-1574-41a4-89b8-bea4f7025762",
   "metadata": {},
   "outputs": [
    {
     "data": {
      "text/plain": [
       "[(1, 'Opis zadania', 2, True), (2, 'Zrobić obiad', 3, False)]"
      ]
     },
     "execution_count": 27,
     "metadata": {},
     "output_type": "execute_result"
    }
   ],
   "source": [
    "results"
   ]
  },
  {
   "cell_type": "markdown",
   "id": "e0ea7d62-1938-4280-a039-60a205a87913",
   "metadata": {},
   "source": [
    "**Wiersze jako słowniki**"
   ]
  },
  {
   "cell_type": "code",
   "execution_count": 28,
   "id": "83544c10-8409-404b-a145-e76f1ae0f239",
   "metadata": {},
   "outputs": [],
   "source": [
    "cursor = conn.cursor(row_factory=psycopg.rows.dict_row)"
   ]
  },
  {
   "cell_type": "code",
   "execution_count": 29,
   "id": "6b12036d-0b1d-4ee9-b6c5-6809970eea01",
   "metadata": {},
   "outputs": [
    {
     "data": {
      "text/plain": [
       "[{'id': 1, 'description': 'Opis zadania', 'priority': 2, 'is_completed': True},\n",
       " {'id': 2,\n",
       "  'description': 'Zrobić obiad',\n",
       "  'priority': 3,\n",
       "  'is_completed': False}]"
      ]
     },
     "execution_count": 29,
     "metadata": {},
     "output_type": "execute_result"
    }
   ],
   "source": [
    "cursor.execute(select_query)\n",
    "results = cursor.fetchall()\n",
    "results"
   ]
  },
  {
   "cell_type": "code",
   "execution_count": 32,
   "id": "a46f372c-b439-4811-b20b-f436e5caa8c6",
   "metadata": {},
   "outputs": [
    {
     "data": {
      "text/plain": [
       "{'id': 1, 'description': 'Opis zadania', 'priority': 2, 'is_completed': True}"
      ]
     },
     "execution_count": 32,
     "metadata": {},
     "output_type": "execute_result"
    }
   ],
   "source": [
    "results[0]"
   ]
  },
  {
   "cell_type": "code",
   "execution_count": 33,
   "id": "7279ff25-ac2b-40f7-bd81-1c94b6cd33bf",
   "metadata": {},
   "outputs": [],
   "source": [
    "cursor = conn.cursor()"
   ]
  },
  {
   "cell_type": "markdown",
   "id": "98d2d683-0822-4a4a-945e-46c5a5905916",
   "metadata": {},
   "source": [
    "### UPDATE"
   ]
  },
  {
   "cell_type": "code",
   "execution_count": 44,
   "id": "2ec2d454-194f-446e-8fe7-71af3d08a5ec",
   "metadata": {},
   "outputs": [],
   "source": [
    "update_query = \"\"\"UPDATE tasks SET description='Nauczyć się SQLa'\n",
    "                  WHERE id=1 RETURNING *\"\"\""
   ]
  },
  {
   "cell_type": "code",
   "execution_count": 45,
   "id": "786191ac-479f-43d2-897a-378642698395",
   "metadata": {},
   "outputs": [
    {
     "data": {
      "text/plain": [
       "(1, 'Nauczyć się SQLa', 2, True)"
      ]
     },
     "execution_count": 45,
     "metadata": {},
     "output_type": "execute_result"
    }
   ],
   "source": [
    "cursor.execute(update_query)\n",
    "record = cursor.fetchone()\n",
    "record"
   ]
  },
  {
   "cell_type": "code",
   "execution_count": 46,
   "id": "70bd0527-655e-4d66-b5d5-45569405266f",
   "metadata": {},
   "outputs": [],
   "source": [
    "conn.commit()"
   ]
  },
  {
   "cell_type": "markdown",
   "id": "808d8f88-e8cd-4c0e-93a6-137893218c25",
   "metadata": {},
   "source": [
    "### DELETE"
   ]
  },
  {
   "cell_type": "code",
   "execution_count": 47,
   "id": "0d4c709a-bcba-43d2-bb4c-fd9e2737d876",
   "metadata": {},
   "outputs": [],
   "source": [
    "delete_query = \"DELETE FROM tasks WHERE id=2;\"\n",
    "cursor.execute(delete_query)\n",
    "conn.commit()"
   ]
  },
  {
   "cell_type": "markdown",
   "id": "6d5764f2-8678-4bd6-a4e4-bc67d4ea7cda",
   "metadata": {},
   "source": [
    "### DROP"
   ]
  },
  {
   "cell_type": "code",
   "execution_count": 48,
   "id": "0c9e8977-2c53-4ba7-94ed-87e623dee149",
   "metadata": {},
   "outputs": [],
   "source": [
    "drop_query = \"DROP TABLE users;\"\n",
    "\n",
    "cursor.execute(drop_query)\n",
    "conn.commit()"
   ]
  },
  {
   "cell_type": "markdown",
   "id": "2933af3a-c53d-49f0-81c8-20e23b387c1f",
   "metadata": {},
   "source": [
    "## Template'y zapytań i zapobieganie SQL injection "
   ]
  },
  {
   "cell_type": "code",
   "execution_count": 49,
   "id": "a732c5f8-ea7f-46f8-8ee9-bf3e4701a8c0",
   "metadata": {},
   "outputs": [
    {
     "data": {
      "text/plain": [
       "'UPDATE tasks SET priority = 3 WHERE id = 1'"
      ]
     },
     "execution_count": 49,
     "metadata": {},
     "output_type": "execute_result"
    }
   ],
   "source": [
    "id_number = '1'\n",
    "\n",
    "query = f\"UPDATE tasks SET priority = 3 WHERE id = {id_number}\"\n",
    "query"
   ]
  },
  {
   "cell_type": "code",
   "execution_count": 50,
   "id": "b0f5b6fa-9154-48ce-8026-2950366628f4",
   "metadata": {},
   "outputs": [],
   "source": [
    "cursor.execute(query)\n",
    "conn.commit()"
   ]
  },
  {
   "cell_type": "markdown",
   "id": "ca2f3c40-3335-468e-9ad0-4897b29fac98",
   "metadata": {},
   "source": [
    "---"
   ]
  },
  {
   "cell_type": "code",
   "execution_count": 51,
   "id": "4a90563c-1b37-4e47-ab4d-8b57e4badf9a",
   "metadata": {},
   "outputs": [],
   "source": [
    "# przygotowanie tabeli do usunięcia\n",
    "\n",
    "create_query = \"CREATE TABLE test();\"\n",
    "cursor.execute(create_query)\n",
    "conn.commit()"
   ]
  },
  {
   "cell_type": "markdown",
   "id": "bf62827f-3d75-4142-9b0f-dae4f15c1c33",
   "metadata": {},
   "source": [
    "SQL injection:"
   ]
  },
  {
   "cell_type": "code",
   "execution_count": 52,
   "id": "25175b2f-ce26-4973-b0a2-5d83fbaaceb1",
   "metadata": {},
   "outputs": [
    {
     "data": {
      "text/plain": [
       "'UPDATE tasks SET priority = 4 WHERE id = 1;  DROP TABLE test;'"
      ]
     },
     "execution_count": 52,
     "metadata": {},
     "output_type": "execute_result"
    }
   ],
   "source": [
    "id_number = '1;  DROP TABLE test;'\n",
    "\n",
    "\n",
    "query = f\"UPDATE tasks SET priority = 4 WHERE id = {id_number}\"\n",
    "query"
   ]
  },
  {
   "cell_type": "code",
   "execution_count": 53,
   "id": "325545fb-c276-4edb-9e3d-5ac2f1434fcf",
   "metadata": {},
   "outputs": [],
   "source": [
    "cursor.execute(query)\n",
    "conn.commit()"
   ]
  },
  {
   "cell_type": "markdown",
   "id": "e18e976b-293f-4f61-aeed-64248dd8c162",
   "metadata": {},
   "source": [
    "---"
   ]
  },
  {
   "cell_type": "code",
   "execution_count": 54,
   "id": "14f6efa0-b4e5-4743-bad7-888d798e095f",
   "metadata": {},
   "outputs": [],
   "source": [
    "id_number = '1'\n",
    "\n",
    "query = \"UPDATE tasks SET priority = 5 WHERE id = %s\"\n",
    "\n",
    "cursor.execute(query, (id_number,))\n",
    "conn.commit()"
   ]
  },
  {
   "cell_type": "markdown",
   "id": "6d627368-b465-4e3c-b2a7-162062ceb869",
   "metadata": {},
   "source": [
    "Gdybyśmy chcieli zobaczyć podgląd takiego zapytania, możemy zrobić to korzystając z następującego feature'a pythonowych stringów:"
   ]
  },
  {
   "cell_type": "code",
   "execution_count": 56,
   "id": "3c6429a3-c3cb-41a1-a4f5-fcc9709966d1",
   "metadata": {},
   "outputs": [
    {
     "data": {
      "text/plain": [
       "'UPDATE tasks SET priority = 5 WHERE id = 1'"
      ]
     },
     "execution_count": 56,
     "metadata": {},
     "output_type": "execute_result"
    }
   ],
   "source": [
    "query % (id_number,)"
   ]
  },
  {
   "cell_type": "markdown",
   "id": "6ca77098-a76d-4c30-adef-819cbea63930",
   "metadata": {},
   "source": [
    "---"
   ]
  },
  {
   "cell_type": "code",
   "execution_count": 57,
   "id": "c258ac69-f9b7-4f2d-ad92-647d6a478a5f",
   "metadata": {},
   "outputs": [],
   "source": [
    "create_query = \"CREATE TABLE test();\"\n",
    "cursor.execute(create_query)\n",
    "conn.commit()"
   ]
  },
  {
   "cell_type": "code",
   "execution_count": 58,
   "id": "c1456592-2228-4b73-b6e8-8703813a7e33",
   "metadata": {},
   "outputs": [
    {
     "ename": "InvalidTextRepresentation",
     "evalue": "invalid input syntax for type integer: \"1; DROP TABLE test;\"\nCONTEXT:  unnamed portal parameter $1 = '...'",
     "output_type": "error",
     "traceback": [
      "\u001b[31m---------------------------------------------------------------------------\u001b[39m",
      "\u001b[31mInvalidTextRepresentation\u001b[39m                 Traceback (most recent call last)",
      "\u001b[36mCell\u001b[39m\u001b[36m \u001b[39m\u001b[32mIn[58]\u001b[39m\u001b[32m, line 5\u001b[39m\n\u001b[32m      1\u001b[39m id_number = \u001b[33m'\u001b[39m\u001b[33m1; DROP TABLE test;\u001b[39m\u001b[33m'\u001b[39m\n\u001b[32m      3\u001b[39m query = \u001b[33m\"\u001b[39m\u001b[33mUPDATE tasks SET priority = 6 WHERE id = \u001b[39m\u001b[38;5;132;01m%s\u001b[39;00m\u001b[33m\"\u001b[39m\n\u001b[32m----> \u001b[39m\u001b[32m5\u001b[39m \u001b[43mcursor\u001b[49m\u001b[43m.\u001b[49m\u001b[43mexecute\u001b[49m\u001b[43m(\u001b[49m\u001b[43mquery\u001b[49m\u001b[43m,\u001b[49m\u001b[43m \u001b[49m\u001b[43m(\u001b[49m\u001b[43mid_number\u001b[49m\u001b[43m,\u001b[49m\u001b[43m)\u001b[49m\u001b[43m)\u001b[49m\n",
      "\u001b[36mFile \u001b[39m\u001b[32m~/Nextcloud/Szkolenia/Sages/2025-09-22_FastAPI/venv/lib/python3.11/site-packages/psycopg/cursor.py:97\u001b[39m, in \u001b[36mCursor.execute\u001b[39m\u001b[34m(self, query, params, prepare, binary)\u001b[39m\n\u001b[32m     93\u001b[39m         \u001b[38;5;28mself\u001b[39m._conn.wait(\n\u001b[32m     94\u001b[39m             \u001b[38;5;28mself\u001b[39m._execute_gen(query, params, prepare=prepare, binary=binary)\n\u001b[32m     95\u001b[39m         )\n\u001b[32m     96\u001b[39m \u001b[38;5;28;01mexcept\u001b[39;00m e._NO_TRACEBACK \u001b[38;5;28;01mas\u001b[39;00m ex:\n\u001b[32m---> \u001b[39m\u001b[32m97\u001b[39m     \u001b[38;5;28;01mraise\u001b[39;00m ex.with_traceback(\u001b[38;5;28;01mNone\u001b[39;00m)\n\u001b[32m     98\u001b[39m \u001b[38;5;28;01mreturn\u001b[39;00m \u001b[38;5;28mself\u001b[39m\n",
      "\u001b[31mInvalidTextRepresentation\u001b[39m: invalid input syntax for type integer: \"1; DROP TABLE test;\"\nCONTEXT:  unnamed portal parameter $1 = '...'"
     ]
    }
   ],
   "source": [
    "id_number = '1; DROP TABLE test;'\n",
    "\n",
    "query = \"UPDATE tasks SET priority = 6 WHERE id = %s\"\n",
    "\n",
    "cursor.execute(query, (id_number,))"
   ]
  },
  {
   "cell_type": "code",
   "execution_count": 60,
   "id": "e1e2e2d9-13c7-461e-a62b-8b0941f164c4",
   "metadata": {},
   "outputs": [
    {
     "data": {
      "text/plain": [
       "'UPDATE tasks SET priority = 6 WHERE id = 1; DROP TABLE test;'"
      ]
     },
     "execution_count": 60,
     "metadata": {},
     "output_type": "execute_result"
    }
   ],
   "source": [
    "query % (id_number,)"
   ]
  },
  {
   "cell_type": "code",
   "execution_count": 61,
   "id": "5edbb8b6-ee69-4189-9ca4-3a53b2c67f81",
   "metadata": {},
   "outputs": [],
   "source": [
    "conn.rollback()"
   ]
  },
  {
   "cell_type": "markdown",
   "id": "4995066a-ebf6-430e-ab27-ff14b0ed5a22",
   "metadata": {},
   "source": [
    "> **ZADANIA**"
   ]
  },
  {
   "cell_type": "code",
   "execution_count": 62,
   "id": "f6adf726-02d9-4407-8484-df1f200e1f3c",
   "metadata": {},
   "outputs": [],
   "source": [
    "cursor.close()\n",
    "conn.close()"
   ]
  },
  {
   "cell_type": "code",
   "execution_count": null,
   "id": "7136a58d-6393-44da-80fe-fcca7d217e1b",
   "metadata": {},
   "outputs": [],
   "source": []
  }
 ],
 "metadata": {
  "kernelspec": {
   "display_name": "Python 3 (ipykernel)",
   "language": "python",
   "name": "python3"
  },
  "language_info": {
   "codemirror_mode": {
    "name": "ipython",
    "version": 3
   },
   "file_extension": ".py",
   "mimetype": "text/x-python",
   "name": "python",
   "nbconvert_exporter": "python",
   "pygments_lexer": "ipython3",
   "version": "3.11.8"
  }
 },
 "nbformat": 4,
 "nbformat_minor": 5
}
