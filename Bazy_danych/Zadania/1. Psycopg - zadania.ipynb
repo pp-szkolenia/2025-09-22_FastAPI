{
 "cells": [
  {
   "cell_type": "markdown",
   "id": "b1b4a835-cc64-43fd-addc-9f2c899e0080",
   "metadata": {},
   "source": [
    "# Psycopg – zadania"
   ]
  },
  {
   "cell_type": "markdown",
   "id": "4b117fb1-c728-4cb0-8cfc-2cb8e09a5e2a",
   "metadata": {},
   "source": [
    "## Tworzenie tabeli i dodawanie rekordów\n",
    "\n",
    "1. Stwórz tabelę `tasks`, w której później zostaną zapisane zadania. Powinna ona mieć następujące pola:\n",
    "- numer id (`id_number`)\n",
    "- opis (`description`)\n",
    "- priorytet (`priority`)\n",
    "- termin wykonania (`due_date`)\n",
    "- status ukończenia (`is_completed`)\n",
    "- przypisanego użytkownika (`assigned_user_id`)\n",
    "\n",
    "---\n",
    "(czas: 12 min.)"
   ]
  },
  {
   "cell_type": "code",
   "execution_count": null,
   "id": "4989bb92-fa16-42c6-9715-138a966e94a7",
   "metadata": {},
   "outputs": [],
   "source": [
    "# ..."
   ]
  },
  {
   "cell_type": "markdown",
   "id": "8b04f0ee-954e-4dcd-b36e-aba7dd0b7517",
   "metadata": {},
   "source": [
    "---\n",
    "---\n",
    "---"
   ]
  },
  {
   "cell_type": "markdown",
   "id": "903b308a-be32-4370-9363-a9967280aaf8",
   "metadata": {},
   "source": [
    "2. Dodaj do tabeli około 10 rekordów o zróżnicowanych wartościach.\n",
    "\n",
    "---\n",
    "(czas: 14 min.)"
   ]
  },
  {
   "cell_type": "code",
   "execution_count": null,
   "id": "37166798-8b4b-4dbb-85c4-9c12c354a8bd",
   "metadata": {},
   "outputs": [],
   "source": [
    "# ..."
   ]
  },
  {
   "cell_type": "markdown",
   "id": "657f5806-a4dc-41ba-86d7-65d403fc9cb2",
   "metadata": {},
   "source": [
    "## Wyciąganie danych z tabeli"
   ]
  },
  {
   "cell_type": "markdown",
   "id": "bb523b31-7d59-4d5b-a020-92ba83864453",
   "metadata": {},
   "source": [
    "1. Napisz zapytanie, które zwróci listę wszystkich zadań z tabeli `tasks`, wyświetlając tylko `id_number`, `description` i `due_date`.\n",
    "\n",
    "---\n",
    "(czas: 4 min.)"
   ]
  },
  {
   "cell_type": "code",
   "execution_count": null,
   "id": "d51780ba-4d1d-4bd7-8a05-3e88d2d090c7",
   "metadata": {},
   "outputs": [],
   "source": [
    "# ..."
   ]
  },
  {
   "cell_type": "markdown",
   "id": "92820986-1ac8-4420-8993-136198359a41",
   "metadata": {},
   "source": [
    "2. Napisz zapytanie, które zwróci wszystkie zadania, które mają priorytet większy niż 3 i nie zostały ukończone (`is_completed` = `False`).\n",
    "\n",
    "---\n",
    "(czas: 4 min.)"
   ]
  },
  {
   "cell_type": "code",
   "execution_count": null,
   "id": "595dcc3b-6889-4bfa-b936-1771f514a859",
   "metadata": {},
   "outputs": [],
   "source": [
    "# ..."
   ]
  },
  {
   "cell_type": "markdown",
   "id": "7325e41a-55af-4cec-8693-c540bd9b9e91",
   "metadata": {},
   "source": [
    "3. Napisz zapytanie, które policzy, ile jest ukończonych i nieukończonych zadań w bazie, grupując wyniki według statusu ukończenia.\n",
    "\n",
    "\n",
    "---\n",
    "(czas: 4 min.)"
   ]
  },
  {
   "cell_type": "code",
   "execution_count": null,
   "id": "9f8e48cd-0f72-4601-a8ee-bfdb36b48b26",
   "metadata": {},
   "outputs": [],
   "source": [
    "# ..."
   ]
  },
  {
   "cell_type": "markdown",
   "id": "6df05138-c079-459d-85f2-0bd334936ce7",
   "metadata": {},
   "source": [
    "4. Napisz zapytanie, które zwróci wszystkie zadania posortowane malejąco według priorytetu, a w przypadku równego priorytetu – rosnąco według `due_date`.\n",
    "\n",
    "\n",
    "---\n",
    "(czas: 4 min.)"
   ]
  },
  {
   "cell_type": "code",
   "execution_count": null,
   "id": "c632153b-a1dd-4768-8ca7-5a95412166ef",
   "metadata": {},
   "outputs": [],
   "source": [
    "# ..."
   ]
  },
  {
   "cell_type": "markdown",
   "id": "cb1aace2-ca1b-4170-8bd1-61094aadb0d3",
   "metadata": {},
   "source": [
    "## Modyfikacja i usuwanie rekordów"
   ]
  },
  {
   "cell_type": "markdown",
   "id": "6abf15ea-dfad-4ab6-8c57-0ab9f4b6c65e",
   "metadata": {},
   "source": [
    "1. Napisz funkcję, która przyjmie `id` wiersza, nazwę kolumny oraz nową wartość i zmodyfikuje wartość w tabeli `tasks`. Obsłuż sytuację niepoprawnego typu nowej wartości.\n",
    "\n",
    "Możesz pomocniczo utworzyć słownik mapujący kolumny w tabeli na oczekiwane typy wartości w nich.\n",
    "\n",
    "---\n",
    "(czas: 12 min.)"
   ]
  },
  {
   "cell_type": "code",
   "execution_count": null,
   "id": "95b0c3cc-f06d-4204-93d8-201c1f861d5f",
   "metadata": {},
   "outputs": [],
   "source": [
    "# ..."
   ]
  },
  {
   "cell_type": "markdown",
   "id": "21cc73d6-224c-4d55-84f3-ebe7d91aa3d8",
   "metadata": {},
   "source": [
    "---\n",
    "---\n",
    "---"
   ]
  },
  {
   "cell_type": "markdown",
   "id": "ec954d08-8ebb-4ebd-9dc1-aadd56e169c7",
   "metadata": {},
   "source": [
    "2. Napisz funkcję, która przyjmie `id` wiersza i usunie go.\n",
    "\n",
    "\n",
    "---\n",
    "(czas: 6 min.)"
   ]
  },
  {
   "cell_type": "code",
   "execution_count": null,
   "id": "fb27df65-b3f0-42b5-99f8-09feabddaa4d",
   "metadata": {},
   "outputs": [],
   "source": [
    "# ..."
   ]
  },
  {
   "cell_type": "markdown",
   "id": "2c2355bc-5fcc-46c6-8e9a-4927fea8c7ac",
   "metadata": {},
   "source": [
    "3. Usuń wszystkie wiersze w tabeli za pomocą `truncate`.\n",
    "\n",
    "---\n",
    "(czas: 3 min.)"
   ]
  },
  {
   "cell_type": "code",
   "execution_count": null,
   "id": "38a8e232-1b8d-4158-b8c9-5041360e5bad",
   "metadata": {},
   "outputs": [],
   "source": [
    "# ..."
   ]
  },
  {
   "cell_type": "markdown",
   "id": "37dab8d3-da33-4b3b-8f7c-30975aab9887",
   "metadata": {},
   "source": [
    "4. Usuń tabelę `tasks`.\n",
    "\n",
    "---\n",
    "(czas: 2 min.)"
   ]
  },
  {
   "cell_type": "code",
   "execution_count": null,
   "id": "4b33b561-b643-42b1-9e51-83132e682aeb",
   "metadata": {},
   "outputs": [],
   "source": [
    "# ..."
   ]
  }
 ],
 "metadata": {
  "kernelspec": {
   "display_name": "Python 3 (ipykernel)",
   "language": "python",
   "name": "python3"
  },
  "language_info": {
   "codemirror_mode": {
    "name": "ipython",
    "version": 3
   },
   "file_extension": ".py",
   "mimetype": "text/x-python",
   "name": "python",
   "nbconvert_exporter": "python",
   "pygments_lexer": "ipython3",
   "version": "3.11.8"
  }
 },
 "nbformat": 4,
 "nbformat_minor": 5
}
