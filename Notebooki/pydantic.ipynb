{
 "cells": [
  {
   "cell_type": "markdown",
   "id": "7a869fe8-26a3-41b4-a38e-8687e4191aec",
   "metadata": {},
   "source": [
    "# Pydantic\n",
    "\n",
    "Pydantic to biblioteka służąca do tworzenia i walidacji modeli struktur danych czyli schematów danych o strukturze typu JSON.\n",
    "\n",
    "Przykładowe **zastosowania** modeli pydantica:\n",
    "- definiowanie request body w REST API\n",
    "- definiowanie formatu formatu JSONa według którego odpowiedź ma wygenerować LLM\n",
    "- walidacja poprawności formatu danych JSON\n",
    "- zamiana danych w postaci słownika na instancję klasy modelu (możemy wtedy np. zdefiniować dla takich obiektów odpowiednie metody)"
   ]
  },
  {
   "cell_type": "markdown",
   "id": "28ccb0c6-5900-487b-964e-875fe34a1f22",
   "metadata": {},
   "source": [
    "## `BaseModel` i modele danych"
   ]
  },
  {
   "cell_type": "code",
   "execution_count": 1,
   "id": "07631f32-9d3d-4571-b54a-140fc9018504",
   "metadata": {},
   "outputs": [],
   "source": [
    "from pydantic import BaseModel"
   ]
  },
  {
   "cell_type": "code",
   "execution_count": 2,
   "id": "1be4d306-a903-4d65-ae2b-5f180dcee2ab",
   "metadata": {},
   "outputs": [],
   "source": [
    "class User(BaseModel):\n",
    "    username: str\n",
    "    password: str\n",
    "    is_admin: bool"
   ]
  },
  {
   "cell_type": "code",
   "execution_count": 3,
   "id": "2c5fdeb3-cba7-4876-82ad-cce0433ad044",
   "metadata": {},
   "outputs": [],
   "source": [
    "class Task(BaseModel):\n",
    "    description: str\n",
    "    priority: int\n",
    "    is_completed: bool\n",
    "    assigned_user: User"
   ]
  },
  {
   "cell_type": "markdown",
   "id": "8a1b51c9-b32c-4040-9452-31fb996d93cf",
   "metadata": {},
   "source": [
    "## Walidacja JSONa\n",
    "\n",
    "Do walidacji JSONa względem modelu używamy metody `model_validate()`."
   ]
  },
  {
   "cell_type": "markdown",
   "id": "f7a0a243-328b-4634-8582-6d10e859360c",
   "metadata": {},
   "source": [
    "**Poprawna walidacja**\n",
    "\n",
    "W przypadku kiedy słownik pasuje do modelu, `model_validate()` zwraca instancję tego modelu."
   ]
  },
  {
   "cell_type": "code",
   "execution_count": 13,
   "id": "c9f7312d-56b2-42e4-b3e0-2a5aa3d27534",
   "metadata": {},
   "outputs": [],
   "source": [
    "user = {\"username\": \"John Doe\", \"password\": \"my_password\", \"is_admin\": True}\n",
    "\n",
    "task = {\"description\": \"Task description\", \"priority\": 2, \"is_completed\": False, \"assigned_user\": user}"
   ]
  },
  {
   "cell_type": "code",
   "execution_count": 14,
   "id": "6139ef69-5c58-45cc-9b4d-c65b1a466392",
   "metadata": {},
   "outputs": [
    {
     "data": {
      "text/plain": [
       "{'username': 'John Doe', 'password': 'my_password', 'is_admin': True}"
      ]
     },
     "execution_count": 14,
     "metadata": {},
     "output_type": "execute_result"
    }
   ],
   "source": [
    "user"
   ]
  },
  {
   "cell_type": "code",
   "execution_count": 15,
   "id": "c7597f6f-f1db-447d-9faa-6fc9b3a88861",
   "metadata": {},
   "outputs": [
    {
     "data": {
      "text/plain": [
       "User(username='John Doe', password='my_password', is_admin=True)"
      ]
     },
     "execution_count": 15,
     "metadata": {},
     "output_type": "execute_result"
    }
   ],
   "source": [
    "User.model_validate(user)"
   ]
  },
  {
   "cell_type": "code",
   "execution_count": 16,
   "id": "0d6c1be8-be16-48b3-a7de-0e539de53e65",
   "metadata": {},
   "outputs": [
    {
     "data": {
      "text/plain": [
       "Task(description='Task description', priority=2, is_completed=False, assigned_user=User(username='John Doe', password='my_password', is_admin=True))"
      ]
     },
     "execution_count": 16,
     "metadata": {},
     "output_type": "execute_result"
    }
   ],
   "source": [
    "Task.model_validate(task)"
   ]
  },
  {
   "cell_type": "markdown",
   "id": "50cb10e0-6347-417d-ab88-a50e0dacad19",
   "metadata": {},
   "source": [
    "---\n",
    "\n",
    "Poniżej `priority` jest zapisane jako `str`. Ponieważ jednak da się to zrzutować na `int`, to walidacja również przebiega poprawnie."
   ]
  },
  {
   "cell_type": "code",
   "execution_count": 17,
   "id": "1ea48a82-eafb-427b-8a36-0cf6250c86d2",
   "metadata": {},
   "outputs": [],
   "source": [
    "user = {\"username\": \"John Doe\", \"password\": \"my_password\", \"is_admin\": True}\n",
    "task = {\"description\": \"Task description\", \"priority\": \"2\", \"is_completed\": False, \"assigned_user\": user}"
   ]
  },
  {
   "cell_type": "code",
   "execution_count": 18,
   "id": "1524a690-7ccc-4c4f-82ca-0271824aaed3",
   "metadata": {},
   "outputs": [
    {
     "data": {
      "text/plain": [
       "Task(description='Task description', priority=2, is_completed=False, assigned_user=User(username='John Doe', password='my_password', is_admin=True))"
      ]
     },
     "execution_count": 18,
     "metadata": {},
     "output_type": "execute_result"
    }
   ],
   "source": [
    "Task.model_validate(task)"
   ]
  },
  {
   "cell_type": "markdown",
   "id": "fe5c746c-abd5-4a23-9cdd-50512cd9be68",
   "metadata": {},
   "source": [
    "**Niepoprawna walidacja**\n",
    "\n",
    "W przypadku błędu walidacji dostajemy błąd `ValidationError`."
   ]
  },
  {
   "cell_type": "code",
   "execution_count": 19,
   "id": "315ebcb6-1a7c-477c-a917-37ba16c0a469",
   "metadata": {},
   "outputs": [],
   "source": [
    "user = {\"username\": \"John Doe\", \"password\": \"my_password\", \"is_admin\": True}\n",
    "task = {\"description\": \"Task description\", \"priority\": \"invalid type\", \"is_completed\": False, \"assigned_user\": user}"
   ]
  },
  {
   "cell_type": "code",
   "execution_count": 20,
   "id": "0a880823-7b5a-4bf6-9d6a-5d1a86244fa6",
   "metadata": {},
   "outputs": [
    {
     "ename": "ValidationError",
     "evalue": "1 validation error for Task\npriority\n  Input should be a valid integer, unable to parse string as an integer [type=int_parsing, input_value='invalid type', input_type=str]\n    For further information visit https://errors.pydantic.dev/2.11/v/int_parsing",
     "output_type": "error",
     "traceback": [
      "\u001b[31m---------------------------------------------------------------------------\u001b[39m",
      "\u001b[31mValidationError\u001b[39m                           Traceback (most recent call last)",
      "\u001b[36mCell\u001b[39m\u001b[36m \u001b[39m\u001b[32mIn[20]\u001b[39m\u001b[32m, line 1\u001b[39m\n\u001b[32m----> \u001b[39m\u001b[32m1\u001b[39m \u001b[43mTask\u001b[49m\u001b[43m.\u001b[49m\u001b[43mmodel_validate\u001b[49m\u001b[43m(\u001b[49m\u001b[43mtask\u001b[49m\u001b[43m)\u001b[49m\n",
      "\u001b[36mFile \u001b[39m\u001b[32m~/Nextcloud/Szkolenia/Sages/2025-09-22_FastAPI/venv/lib/python3.11/site-packages/pydantic/main.py:705\u001b[39m, in \u001b[36mBaseModel.model_validate\u001b[39m\u001b[34m(cls, obj, strict, from_attributes, context, by_alias, by_name)\u001b[39m\n\u001b[32m    699\u001b[39m \u001b[38;5;28;01mif\u001b[39;00m by_alias \u001b[38;5;129;01mis\u001b[39;00m \u001b[38;5;28;01mFalse\u001b[39;00m \u001b[38;5;129;01mand\u001b[39;00m by_name \u001b[38;5;129;01mis\u001b[39;00m \u001b[38;5;129;01mnot\u001b[39;00m \u001b[38;5;28;01mTrue\u001b[39;00m:\n\u001b[32m    700\u001b[39m     \u001b[38;5;28;01mraise\u001b[39;00m PydanticUserError(\n\u001b[32m    701\u001b[39m         \u001b[33m'\u001b[39m\u001b[33mAt least one of `by_alias` or `by_name` must be set to True.\u001b[39m\u001b[33m'\u001b[39m,\n\u001b[32m    702\u001b[39m         code=\u001b[33m'\u001b[39m\u001b[33mvalidate-by-alias-and-name-false\u001b[39m\u001b[33m'\u001b[39m,\n\u001b[32m    703\u001b[39m     )\n\u001b[32m--> \u001b[39m\u001b[32m705\u001b[39m \u001b[38;5;28;01mreturn\u001b[39;00m \u001b[38;5;28;43mcls\u001b[39;49m\u001b[43m.\u001b[49m\u001b[43m__pydantic_validator__\u001b[49m\u001b[43m.\u001b[49m\u001b[43mvalidate_python\u001b[49m\u001b[43m(\u001b[49m\n\u001b[32m    706\u001b[39m \u001b[43m    \u001b[49m\u001b[43mobj\u001b[49m\u001b[43m,\u001b[49m\u001b[43m \u001b[49m\u001b[43mstrict\u001b[49m\u001b[43m=\u001b[49m\u001b[43mstrict\u001b[49m\u001b[43m,\u001b[49m\u001b[43m \u001b[49m\u001b[43mfrom_attributes\u001b[49m\u001b[43m=\u001b[49m\u001b[43mfrom_attributes\u001b[49m\u001b[43m,\u001b[49m\u001b[43m \u001b[49m\u001b[43mcontext\u001b[49m\u001b[43m=\u001b[49m\u001b[43mcontext\u001b[49m\u001b[43m,\u001b[49m\u001b[43m \u001b[49m\u001b[43mby_alias\u001b[49m\u001b[43m=\u001b[49m\u001b[43mby_alias\u001b[49m\u001b[43m,\u001b[49m\u001b[43m \u001b[49m\u001b[43mby_name\u001b[49m\u001b[43m=\u001b[49m\u001b[43mby_name\u001b[49m\n\u001b[32m    707\u001b[39m \u001b[43m\u001b[49m\u001b[43m)\u001b[49m\n",
      "\u001b[31mValidationError\u001b[39m: 1 validation error for Task\npriority\n  Input should be a valid integer, unable to parse string as an integer [type=int_parsing, input_value='invalid type', input_type=str]\n    For further information visit https://errors.pydantic.dev/2.11/v/int_parsing"
     ]
    }
   ],
   "source": [
    "Task.model_validate(task)"
   ]
  },
  {
   "cell_type": "markdown",
   "id": "a9fb1299-ae24-4287-8bd4-77455d8257d5",
   "metadata": {},
   "source": [
    "## Rzutowanie słownika na obiekt\n",
    "\n",
    "Rzutowanie słownika na obiekt pozwala nie tylko przechowywać informacje w postaci tego obiektu zamiast słownika ale również korzystać ze wszystkich metod odpowiadającej mu klasy."
   ]
  },
  {
   "cell_type": "code",
   "execution_count": 21,
   "id": "5492873a-8cbf-4207-8f1f-02c8709e163c",
   "metadata": {},
   "outputs": [
    {
     "data": {
      "text/plain": [
       "{'username': 'John Doe', 'password': 'my_password', 'is_admin': True}"
      ]
     },
     "execution_count": 21,
     "metadata": {},
     "output_type": "execute_result"
    }
   ],
   "source": [
    "user"
   ]
  },
  {
   "cell_type": "code",
   "execution_count": 23,
   "id": "535b9246-d1aa-49fa-a1da-52e6945a3acc",
   "metadata": {},
   "outputs": [
    {
     "data": {
      "text/plain": [
       "User(username='John Doe', password='my_password', is_admin=True)"
      ]
     },
     "execution_count": 23,
     "metadata": {},
     "output_type": "execute_result"
    }
   ],
   "source": [
    "User(**user)"
   ]
  },
  {
   "cell_type": "code",
   "execution_count": 24,
   "id": "2db16e6f-7f40-4db9-8c45-d3e564178492",
   "metadata": {},
   "outputs": [],
   "source": [
    "class User(BaseModel):\n",
    "    username: str\n",
    "    password: str\n",
    "    is_admin: bool\n",
    "\n",
    "    def change_password(self, new_password):\n",
    "        if isinstance(new_password, str):\n",
    "            self.password = new_password\n",
    "        else:\n",
    "            raise TypeError(\"Invalid type for new password\")"
   ]
  },
  {
   "cell_type": "code",
   "execution_count": 26,
   "id": "886e41df-58ae-41bd-8055-45c7a26e1538",
   "metadata": {},
   "outputs": [
    {
     "data": {
      "text/plain": [
       "User(username='John Doe', password='my_password', is_admin=True)"
      ]
     },
     "execution_count": 26,
     "metadata": {},
     "output_type": "execute_result"
    }
   ],
   "source": [
    "user_obj = User(**user)\n",
    "user_obj"
   ]
  },
  {
   "cell_type": "code",
   "execution_count": 27,
   "id": "1b98c7d9-d5b6-4ec2-bb80-4a4978e86560",
   "metadata": {},
   "outputs": [
    {
     "data": {
      "text/plain": [
       "User(username='John Doe', password='new_password', is_admin=True)"
      ]
     },
     "execution_count": 27,
     "metadata": {},
     "output_type": "execute_result"
    }
   ],
   "source": [
    "user_obj.change_password(\"new_password\")\n",
    "user_obj"
   ]
  },
  {
   "cell_type": "code",
   "execution_count": 28,
   "id": "009d95e3-56e8-4fad-af75-8b8671702f82",
   "metadata": {},
   "outputs": [
    {
     "ename": "TypeError",
     "evalue": "Invalid type for new password",
     "output_type": "error",
     "traceback": [
      "\u001b[31m---------------------------------------------------------------------------\u001b[39m",
      "\u001b[31mTypeError\u001b[39m                                 Traceback (most recent call last)",
      "\u001b[36mCell\u001b[39m\u001b[36m \u001b[39m\u001b[32mIn[28]\u001b[39m\u001b[32m, line 1\u001b[39m\n\u001b[32m----> \u001b[39m\u001b[32m1\u001b[39m \u001b[43muser_obj\u001b[49m\u001b[43m.\u001b[49m\u001b[43mchange_password\u001b[49m\u001b[43m(\u001b[49m\u001b[38;5;28;43;01mTrue\u001b[39;49;00m\u001b[43m)\u001b[49m\n",
      "\u001b[36mCell\u001b[39m\u001b[36m \u001b[39m\u001b[32mIn[24]\u001b[39m\u001b[32m, line 10\u001b[39m, in \u001b[36mUser.change_password\u001b[39m\u001b[34m(self, new_password)\u001b[39m\n\u001b[32m      8\u001b[39m     \u001b[38;5;28mself\u001b[39m.password = new_password\n\u001b[32m      9\u001b[39m \u001b[38;5;28;01melse\u001b[39;00m:\n\u001b[32m---> \u001b[39m\u001b[32m10\u001b[39m     \u001b[38;5;28;01mraise\u001b[39;00m \u001b[38;5;167;01mTypeError\u001b[39;00m(\u001b[33m\"\u001b[39m\u001b[33mInvalid type for new password\u001b[39m\u001b[33m\"\u001b[39m)\n",
      "\u001b[31mTypeError\u001b[39m: Invalid type for new password"
     ]
    }
   ],
   "source": [
    "user_obj.change_password(True)"
   ]
  },
  {
   "cell_type": "markdown",
   "id": "aef6c60e-bfd8-4a98-92d8-8ece471012bc",
   "metadata": {},
   "source": [
    "> **ZADANIE**"
   ]
  },
  {
   "cell_type": "markdown",
   "id": "96763560-8e8c-4064-9bfa-30d351db03cb",
   "metadata": {},
   "source": [
    "Stwórz klasę `Task`, która będzie miała następujące pola (atrybuty). Dobierz dla nich odpowiednie typy.\n",
    "   - `description`\n",
    "   - `assigned_user`\n",
    "   - `due_date`\n",
    "   - `comments`\n",
    "\n",
    "Klasa ta powinna również posiadać metodę `modify_description()`, której zadaniem będzie modyfikacja opisu zadania. Jeśli podano wartość typu innego niż `str` należy zwrócić odpowiedni błąd.\n",
    "\n",
    "Następnie na podstawie słownika z danymi o zadaniu dokonaj walidacji i zamiany słownika na obiekt."
   ]
  },
  {
   "cell_type": "code",
   "execution_count": 29,
   "id": "d06405c1-0074-47bc-9893-fd9b0b2d275e",
   "metadata": {},
   "outputs": [],
   "source": [
    "from datetime import date"
   ]
  },
  {
   "cell_type": "code",
   "execution_count": 98,
   "id": "366a62fd-7d71-4e85-a715-8188c16299f2",
   "metadata": {},
   "outputs": [],
   "source": [
    "class Task(BaseModel):\n",
    "    description: str = Field(alias=\"Opis\")\n",
    "    # assigned_user: User\n",
    "    due_date: date\n",
    "    comments: list[str]\n",
    "\n",
    "    def modify_description(self, value: str):\n",
    "        if not isinstance(value, str):\n",
    "            raise TypeError(\"Description must be a string\")\n",
    "        self.description = value"
   ]
  },
  {
   "cell_type": "code",
   "execution_count": 99,
   "id": "adfc806c-934f-4ab8-b3fd-9be9563c0d9d",
   "metadata": {},
   "outputs": [],
   "source": [
    "task_dict = {\n",
    "    \"Opis\": \"Opis\", \"assigned_user\": user, \"due_date\": date.today(), \"comments\": []\n",
    "}"
   ]
  },
  {
   "cell_type": "code",
   "execution_count": 100,
   "id": "f9af5fd1-7ddb-4ea6-80e2-4b3cf2b1f893",
   "metadata": {},
   "outputs": [
    {
     "data": {
      "text/plain": [
       "Task(description='Opis', due_date=datetime.date(2025, 9, 22), comments=[])"
      ]
     },
     "execution_count": 100,
     "metadata": {},
     "output_type": "execute_result"
    }
   ],
   "source": [
    "task_obj = Task(**task_dict)\n",
    "task_obj"
   ]
  },
  {
   "cell_type": "code",
   "execution_count": 36,
   "id": "90278d86-285e-4a0f-9174-c9d855d763cc",
   "metadata": {},
   "outputs": [],
   "source": [
    "task_obj.modify_description(\"Nowy opis\")"
   ]
  },
  {
   "cell_type": "code",
   "execution_count": 37,
   "id": "60f317e9-48c1-4aab-b48d-93d0016138df",
   "metadata": {},
   "outputs": [
    {
     "data": {
      "text/plain": [
       "Task(description='Nowy opis', assigned_user=User(username='John Doe', password='my_password', is_admin=True), due_date=datetime.date(2025, 9, 22), comments=[])"
      ]
     },
     "execution_count": 37,
     "metadata": {},
     "output_type": "execute_result"
    }
   ],
   "source": [
    "task_obj"
   ]
  },
  {
   "cell_type": "markdown",
   "id": "a5de34da-8b01-4c2a-a24c-49382fb157d8",
   "metadata": {},
   "source": [
    "---\n",
    "---\n",
    "---"
   ]
  },
  {
   "cell_type": "markdown",
   "id": "0f3ec61e-7895-4e55-a78a-b3899732dd1d",
   "metadata": {},
   "source": [
    "## Zaawansowane elementy definiowania modeli"
   ]
  },
  {
   "cell_type": "markdown",
   "id": "2677118f-fda3-4cb2-b067-fa6ca5306b21",
   "metadata": {},
   "source": [
    "**Dopuszczanie różnych typów**"
   ]
  },
  {
   "cell_type": "code",
   "execution_count": 38,
   "id": "914efaf5-772c-419d-8542-0f0aa071c8ea",
   "metadata": {},
   "outputs": [],
   "source": [
    "class Task(BaseModel):\n",
    "    description: str\n",
    "    priority: int | str\n",
    "    is_completed: bool | None"
   ]
  },
  {
   "cell_type": "code",
   "execution_count": 43,
   "id": "5698d3d4-5496-4a13-859e-4196f10c0969",
   "metadata": {},
   "outputs": [
    {
     "data": {
      "text/plain": [
       "Task(description='task description', priority=3, is_completed=None)"
      ]
     },
     "execution_count": 43,
     "metadata": {},
     "output_type": "execute_result"
    }
   ],
   "source": [
    "Task(description=\"task description\", priority=3, is_completed=None)"
   ]
  },
  {
   "cell_type": "markdown",
   "id": "5dc148f6-f90e-496c-b03e-65e2701819c1",
   "metadata": {},
   "source": [
    "---"
   ]
  },
  {
   "cell_type": "code",
   "execution_count": 44,
   "id": "0105d72f-dd71-4139-a47c-45bb8f7a28d3",
   "metadata": {},
   "outputs": [],
   "source": [
    "class Task(BaseModel):\n",
    "    description: str\n",
    "    priority: float  # | int\n",
    "    is_completed: bool | None"
   ]
  },
  {
   "cell_type": "code",
   "execution_count": 45,
   "id": "4b97c2eb-b0e0-42b3-a49a-dfe59986e3ac",
   "metadata": {},
   "outputs": [
    {
     "data": {
      "text/plain": [
       "Task(description='task description', priority=2.0, is_completed=False)"
      ]
     },
     "execution_count": 45,
     "metadata": {},
     "output_type": "execute_result"
    }
   ],
   "source": [
    "Task(description=\"task description\", priority=2, is_completed=False)"
   ]
  },
  {
   "cell_type": "markdown",
   "id": "b3d8ecce-b3b2-461f-9d0c-d88051cf1a88",
   "metadata": {},
   "source": [
    "**Typ `Literal`**"
   ]
  },
  {
   "cell_type": "code",
   "execution_count": 46,
   "id": "4607627f-bcd3-4231-8062-5454da7dc293",
   "metadata": {},
   "outputs": [],
   "source": [
    "from typing import Literal"
   ]
  },
  {
   "cell_type": "code",
   "execution_count": 47,
   "id": "2f848c54-d47e-4805-a3cd-8e48ce2da5e4",
   "metadata": {},
   "outputs": [],
   "source": [
    "class Task(BaseModel):\n",
    "    description: str\n",
    "    priority: Literal[\"low\", \"medium\", \"high\"]\n",
    "    is_completed: bool"
   ]
  },
  {
   "cell_type": "code",
   "execution_count": 50,
   "id": "1c485b2d-f6cb-4bdb-80c7-eb29812549c5",
   "metadata": {},
   "outputs": [
    {
     "data": {
      "text/plain": [
       "Task(description='task description', priority='medium', is_completed=True)"
      ]
     },
     "execution_count": 50,
     "metadata": {},
     "output_type": "execute_result"
    }
   ],
   "source": [
    "Task(description=\"task description\", priority=\"medium\", is_completed=True)"
   ]
  },
  {
   "cell_type": "markdown",
   "id": "2a646551-deb5-4464-8012-e27f36e979dc",
   "metadata": {},
   "source": [
    "**Typy z ograniczeniami**\n",
    "\n",
    "Constrained types"
   ]
  },
  {
   "cell_type": "code",
   "execution_count": 51,
   "id": "8ff82fee-2c7c-4386-9e22-8cd3f389b353",
   "metadata": {},
   "outputs": [],
   "source": [
    "from pydantic import constr, conint, confloat"
   ]
  },
  {
   "cell_type": "code",
   "execution_count": 52,
   "id": "03ea1e6e-a3a8-43cd-bb43-9fd160279f53",
   "metadata": {},
   "outputs": [],
   "source": [
    "class Test(BaseModel):\n",
    "    test_string: constr(min_length=5, max_length=10, pattern=r\"^[a-zA-Z]+$\")\n",
    "    test_int: conint(gt=2, lt=8)\n",
    "    test_float: confloat(ge=0.0, le=1.0)"
   ]
  },
  {
   "cell_type": "code",
   "execution_count": 67,
   "id": "7f0bd8a3-a13d-4674-9b46-12340517567c",
   "metadata": {},
   "outputs": [
    {
     "data": {
      "text/plain": [
       "Test(test_string='xyzab', test_int=4, test_float=0.5)"
      ]
     },
     "execution_count": 67,
     "metadata": {},
     "output_type": "execute_result"
    }
   ],
   "source": [
    "test = Test(test_string=\"xyzab\", test_int=4, test_float=0.5)\n",
    "test"
   ]
  },
  {
   "cell_type": "markdown",
   "id": "bcd71261-8bab-42ba-a00f-e3f02ad5a193",
   "metadata": {},
   "source": [
    "**Wartości domyślne i opcjonalne**"
   ]
  },
  {
   "cell_type": "code",
   "execution_count": 68,
   "id": "851250fe-3b7a-4473-99ab-a9530cff0b75",
   "metadata": {},
   "outputs": [],
   "source": [
    "from datetime import date"
   ]
  },
  {
   "cell_type": "code",
   "execution_count": 69,
   "id": "1c0d830a-8050-4ad1-b4d7-c8301ee71ca5",
   "metadata": {},
   "outputs": [],
   "source": [
    "class User(BaseModel):\n",
    "    username: str\n",
    "    password: str\n",
    "    is_admin: bool = False\n",
    "    date_of_birth: date | None = None"
   ]
  },
  {
   "cell_type": "code",
   "execution_count": 70,
   "id": "e0711d78-d079-4033-b433-1b257f4a5151",
   "metadata": {},
   "outputs": [
    {
     "data": {
      "text/plain": [
       "User(username='John Doe', password='password', is_admin=False, date_of_birth=None)"
      ]
     },
     "execution_count": 70,
     "metadata": {},
     "output_type": "execute_result"
    }
   ],
   "source": [
    "User(username=\"John Doe\", password=\"password\")"
   ]
  },
  {
   "cell_type": "markdown",
   "id": "72b8b1bf-51f8-4c36-901a-85bc85b345ad",
   "metadata": {},
   "source": [
    "**Field – metadane pola**\n",
    "\n",
    "`Field` pozwala zdefiniować wiele rzeczy w jednym miejscu, m.in. wartość domyślną, walidację wartości, alias pola czy jego opis."
   ]
  },
  {
   "cell_type": "code",
   "execution_count": 71,
   "id": "78192e56-d682-4b85-8d49-821ff9186a1e",
   "metadata": {},
   "outputs": [],
   "source": [
    "from pydantic import Field\n",
    "from datetime import datetime"
   ]
  },
  {
   "cell_type": "code",
   "execution_count": 90,
   "id": "e073dfe7-1627-4f07-b59f-ae99b8465a8f",
   "metadata": {},
   "outputs": [],
   "source": [
    "class User(BaseModel):\n",
    "    username: str = Field(alias=[\"login\"])\n",
    "    password: str = Field(min_length=8)\n",
    "    is_admin: bool = Field(False, description=\"Whether or not the user is an admin\")\n",
    "    creation_timestamp: date = Field(default_factory=datetime.now)"
   ]
  },
  {
   "cell_type": "code",
   "execution_count": 92,
   "id": "5519c0b3-4339-4d8a-b652-d29dbe207108",
   "metadata": {},
   "outputs": [
    {
     "data": {
      "text/plain": [
       "User(username='my_username', password='my_password', is_admin=False, creation_timestamp=datetime.datetime(2025, 9, 22, 15, 53, 16, 155500))"
      ]
     },
     "execution_count": 92,
     "metadata": {},
     "output_type": "execute_result"
    }
   ],
   "source": [
    "User(login=\"my_username\", password=\"my_password\")"
   ]
  },
  {
   "cell_type": "markdown",
   "id": "0c5a0d8f-634a-4e51-99ee-6193b8ad64da",
   "metadata": {},
   "source": [
    "**`field_validator` i `model_validator` – customowa walidacja**\n",
    "\n",
    "Jeśli chcemy zastosować bardziej zaawansowaną walidację modelu możemy użyć metod z dekoratorami `field_validator` lub `model_validator`.\n",
    "\n",
    "`field_validator` - służy do walidacji wartości w pojedynczym polu\n",
    "\n",
    "`model_validator` - służy do walidacji zależności między polami modelu"
   ]
  },
  {
   "cell_type": "code",
   "execution_count": 75,
   "id": "f25e98e7-07e8-43e5-b6ea-042480a20fba",
   "metadata": {},
   "outputs": [],
   "source": [
    "from pydantic import field_validator, model_validator"
   ]
  },
  {
   "cell_type": "code",
   "execution_count": 82,
   "id": "37bbd7a3-211f-4079-bfbf-1b912ce246b9",
   "metadata": {},
   "outputs": [],
   "source": [
    "class User(BaseModel):\n",
    "    username: str = Field(alias=\"login\")\n",
    "    password: str = Field(min_length=8)\n",
    "    is_admin: bool = Field(False, description=\"Whether or not the user is an admin\")\n",
    "    creation_timestamp: date = Field(default_factory=datetime.now)\n",
    "\n",
    "    @field_validator(\"password\")\n",
    "    def check_password_not_contains_admin(cls, value):\n",
    "        if \"admin\" in value.lower():\n",
    "            raise ValueError(\"Password should not contain the word 'admin'\")\n",
    "        return value\n",
    "\n",
    "    @model_validator(mode=\"after\")\n",
    "    def validate_password_length_for_admins(self):\n",
    "        min_admin_password_length = 12\n",
    "        if self.is_admin and len(self.password) < min_admin_password_length:\n",
    "            raise ValueError(\"Too short password for an admin\")\n",
    "        return self"
   ]
  },
  {
   "cell_type": "code",
   "execution_count": 84,
   "id": "3f7cf90f-483c-4756-b6ff-3f140f2a5b28",
   "metadata": {},
   "outputs": [
    {
     "ename": "AttributeError",
     "evalue": "'dict' object has no attribute 'is_admin'",
     "output_type": "error",
     "traceback": [
      "\u001b[31m---------------------------------------------------------------------------\u001b[39m",
      "\u001b[31mAttributeError\u001b[39m                            Traceback (most recent call last)",
      "\u001b[36mCell\u001b[39m\u001b[36m \u001b[39m\u001b[32mIn[84]\u001b[39m\u001b[32m, line 1\u001b[39m\n\u001b[32m----> \u001b[39m\u001b[32m1\u001b[39m \u001b[43mUser\u001b[49m\u001b[43m(\u001b[49m\u001b[43mlogin\u001b[49m\u001b[43m=\u001b[49m\u001b[33;43m\"\u001b[39;49m\u001b[33;43muser\u001b[39;49m\u001b[33;43m\"\u001b[39;49m\u001b[43m,\u001b[49m\u001b[43m \u001b[49m\u001b[43mpassword\u001b[49m\u001b[43m=\u001b[49m\u001b[33;43m\"\u001b[39;49m\u001b[33;43muser1234\u001b[39;49m\u001b[33;43m\"\u001b[39;49m\u001b[43m,\u001b[49m\u001b[43m \u001b[49m\u001b[43mis_admin\u001b[49m\u001b[43m=\u001b[49m\u001b[38;5;28;43;01mFalse\u001b[39;49;00m\u001b[43m)\u001b[49m  \u001b[38;5;66;03m# admin1234\u001b[39;00m\n",
      "    \u001b[31m[... skipping hidden 1 frame]\u001b[39m\n",
      "\u001b[36mCell\u001b[39m\u001b[36m \u001b[39m\u001b[32mIn[82]\u001b[39m\u001b[32m, line 16\u001b[39m, in \u001b[36mUser.validate_password_length_for_admins\u001b[39m\u001b[34m(self)\u001b[39m\n\u001b[32m     13\u001b[39m \u001b[38;5;129m@model_validator\u001b[39m(mode=\u001b[33m\"\u001b[39m\u001b[33mbefore\u001b[39m\u001b[33m\"\u001b[39m)\n\u001b[32m     14\u001b[39m \u001b[38;5;28;01mdef\u001b[39;00m\u001b[38;5;250m \u001b[39m\u001b[34mvalidate_password_length_for_admins\u001b[39m(\u001b[38;5;28mself\u001b[39m):\n\u001b[32m     15\u001b[39m     min_admin_password_length = \u001b[32m12\u001b[39m\n\u001b[32m---> \u001b[39m\u001b[32m16\u001b[39m     \u001b[38;5;28;01mif\u001b[39;00m \u001b[38;5;28;43mself\u001b[39;49m\u001b[43m.\u001b[49m\u001b[43mis_admin\u001b[49m \u001b[38;5;129;01mand\u001b[39;00m \u001b[38;5;28mlen\u001b[39m(\u001b[38;5;28mself\u001b[39m.password) < min_admin_password_length:\n\u001b[32m     17\u001b[39m         \u001b[38;5;28;01mraise\u001b[39;00m \u001b[38;5;167;01mValueError\u001b[39;00m(\u001b[33m\"\u001b[39m\u001b[33mToo short password for an admin\u001b[39m\u001b[33m\"\u001b[39m)\n\u001b[32m     18\u001b[39m     \u001b[38;5;28;01mreturn\u001b[39;00m \u001b[38;5;28mself\u001b[39m\n",
      "\u001b[31mAttributeError\u001b[39m: 'dict' object has no attribute 'is_admin'"
     ]
    }
   ],
   "source": [
    "User(login=\"user\", password=\"user1234\", is_admin=False)  # admin1234"
   ]
  },
  {
   "cell_type": "code",
   "execution_count": 81,
   "id": "7165c6f6-57a5-432e-a5fa-195990c38692",
   "metadata": {},
   "outputs": [
    {
     "ename": "ValidationError",
     "evalue": "1 validation error for User\n  Value error, Too short password for an admin [type=value_error, input_value={'login': 'user', 'passwo...1234', 'is_admin': True}, input_type=dict]\n    For further information visit https://errors.pydantic.dev/2.11/v/value_error",
     "output_type": "error",
     "traceback": [
      "\u001b[31m---------------------------------------------------------------------------\u001b[39m",
      "\u001b[31mValidationError\u001b[39m                           Traceback (most recent call last)",
      "\u001b[36mCell\u001b[39m\u001b[36m \u001b[39m\u001b[32mIn[81]\u001b[39m\u001b[32m, line 1\u001b[39m\n\u001b[32m----> \u001b[39m\u001b[32m1\u001b[39m \u001b[43mUser\u001b[49m\u001b[43m(\u001b[49m\u001b[43mlogin\u001b[49m\u001b[43m=\u001b[49m\u001b[33;43m\"\u001b[39;49m\u001b[33;43muser\u001b[39;49m\u001b[33;43m\"\u001b[39;49m\u001b[43m,\u001b[49m\u001b[43m \u001b[49m\u001b[43mpassword\u001b[49m\u001b[43m=\u001b[49m\u001b[33;43m\"\u001b[39;49m\u001b[33;43muser1234\u001b[39;49m\u001b[33;43m\"\u001b[39;49m\u001b[43m,\u001b[49m\u001b[43m \u001b[49m\u001b[43mis_admin\u001b[49m\u001b[43m=\u001b[49m\u001b[38;5;28;43;01mTrue\u001b[39;49;00m\u001b[43m)\u001b[49m  \u001b[38;5;66;03m# user1234\u001b[39;00m\n",
      "\u001b[36mFile \u001b[39m\u001b[32m~/Nextcloud/Szkolenia/Sages/2025-09-22_FastAPI/venv/lib/python3.11/site-packages/pydantic/main.py:253\u001b[39m, in \u001b[36mBaseModel.__init__\u001b[39m\u001b[34m(self, **data)\u001b[39m\n\u001b[32m    251\u001b[39m \u001b[38;5;66;03m# `__tracebackhide__` tells pytest and some other tools to omit this function from tracebacks\u001b[39;00m\n\u001b[32m    252\u001b[39m __tracebackhide__ = \u001b[38;5;28;01mTrue\u001b[39;00m\n\u001b[32m--> \u001b[39m\u001b[32m253\u001b[39m validated_self = \u001b[38;5;28;43mself\u001b[39;49m\u001b[43m.\u001b[49m\u001b[43m__pydantic_validator__\u001b[49m\u001b[43m.\u001b[49m\u001b[43mvalidate_python\u001b[49m\u001b[43m(\u001b[49m\u001b[43mdata\u001b[49m\u001b[43m,\u001b[49m\u001b[43m \u001b[49m\u001b[43mself_instance\u001b[49m\u001b[43m=\u001b[49m\u001b[38;5;28;43mself\u001b[39;49m\u001b[43m)\u001b[49m\n\u001b[32m    254\u001b[39m \u001b[38;5;28;01mif\u001b[39;00m \u001b[38;5;28mself\u001b[39m \u001b[38;5;129;01mis\u001b[39;00m \u001b[38;5;129;01mnot\u001b[39;00m validated_self:\n\u001b[32m    255\u001b[39m     warnings.warn(\n\u001b[32m    256\u001b[39m         \u001b[33m'\u001b[39m\u001b[33mA custom validator is returning a value other than `self`.\u001b[39m\u001b[38;5;130;01m\\n\u001b[39;00m\u001b[33m'\u001b[39m\n\u001b[32m    257\u001b[39m         \u001b[33m\"\u001b[39m\u001b[33mReturning anything other than `self` from a top level model validator isn\u001b[39m\u001b[33m'\u001b[39m\u001b[33mt supported when validating via `__init__`.\u001b[39m\u001b[38;5;130;01m\\n\u001b[39;00m\u001b[33m\"\u001b[39m\n\u001b[32m    258\u001b[39m         \u001b[33m'\u001b[39m\u001b[33mSee the `model_validator` docs (https://docs.pydantic.dev/latest/concepts/validators/#model-validators) for more details.\u001b[39m\u001b[33m'\u001b[39m,\n\u001b[32m    259\u001b[39m         stacklevel=\u001b[32m2\u001b[39m,\n\u001b[32m    260\u001b[39m     )\n",
      "\u001b[31mValidationError\u001b[39m: 1 validation error for User\n  Value error, Too short password for an admin [type=value_error, input_value={'login': 'user', 'passwo...1234', 'is_admin': True}, input_type=dict]\n    For further information visit https://errors.pydantic.dev/2.11/v/value_error"
     ]
    }
   ],
   "source": [
    "User(login=\"user\", password=\"user1234\", is_admin=True)  # user1234"
   ]
  },
  {
   "cell_type": "markdown",
   "id": "909da1d7-53ea-42fc-8295-c47688a9f871",
   "metadata": {},
   "source": [
    "> **ZADANIE**"
   ]
  },
  {
   "cell_type": "markdown",
   "id": "6edf68f8-0167-4177-adbb-fbd36ba81154",
   "metadata": {},
   "source": [
    "Rozbuduj klasę `Task` z poprzedniego zadania w następujący sposób:\n",
    "- w polu `assigned_user` zezwól na wartość typu `str` (username użytkownika)\n",
    "- dodaj pole `category`, które będzie miało kilka określonych wartości dopuszczalnych\n",
    "- ustaw maksymalną długość opisu na 30 znaków\n",
    "- przyjmij pustą listę jako domyślną wartość pola `comments`\n",
    "- dodaj opis wybranego pola korzystając z `Field`\n",
    "\n",
    "Następnie stwórz instancję tej klasy."
   ]
  },
  {
   "cell_type": "code",
   "execution_count": 101,
   "id": "c2b16ab4-9e38-4097-9be0-f6ab80bbba8e",
   "metadata": {},
   "outputs": [],
   "source": [
    "class Task(BaseModel):\n",
    "    description: str = Field(max_length=30)\n",
    "    assigned_user: User | str\n",
    "    category: Literal[\"bug\", \"feature\", \"task\"] = Field(description=\"Task category\")\n",
    "    due_date: date\n",
    "    comments: list[str] = []"
   ]
  },
  {
   "cell_type": "code",
   "execution_count": 108,
   "id": "44a48e50-874d-41e5-a1c8-682a4e123e20",
   "metadata": {},
   "outputs": [
    {
     "data": {
      "text/plain": [
       "Task(description='Opis zadania', assigned_user='username', category='bug', due_date=datetime.date(2025, 9, 22), comments=[])"
      ]
     },
     "execution_count": 108,
     "metadata": {},
     "output_type": "execute_result"
    }
   ],
   "source": [
    "Task(\n",
    "    description=\"Opis zadania\",\n",
    "    assigned_user=\"username\",\n",
    "    category=\"bug\",\n",
    "    due_date=date.today()\n",
    ")"
   ]
  },
  {
   "cell_type": "markdown",
   "id": "99c1a560-41a3-4a21-a878-902c71d8d237",
   "metadata": {},
   "source": [
    "## Pydantic + LLM\n",
    "\n",
    "Poniższego kodu **nie należy** wykonywać (jest do tego potrzebny klucz API OpenAI). Obrazuje on jednak w jaki sposób możemy zastosować Pydantica w pracy z modelami językowymi."
   ]
  },
  {
   "cell_type": "code",
   "execution_count": null,
   "id": "d5b609d4-8ba7-4795-a512-9fb9ebbefe6b",
   "metadata": {},
   "outputs": [],
   "source": [
    "from openai import OpenAI"
   ]
  },
  {
   "cell_type": "code",
   "execution_count": null,
   "id": "4c4c63fc-d39e-48af-bcab-216f55ed25ef",
   "metadata": {},
   "outputs": [],
   "source": [
    "client = OpenAI()"
   ]
  },
  {
   "cell_type": "code",
   "execution_count": null,
   "id": "be6860b0-cb1c-460a-a94e-3b1d5d9db00f",
   "metadata": {},
   "outputs": [],
   "source": [
    "class User(BaseModel):\n",
    "    username: str = Field(description=\"Username of the user\")\n",
    "    password: str = Field(description=\"Password of the user\")\n",
    "    is_admin: bool = Field(description=\"Whether or not the user is an admin\")"
   ]
  },
  {
   "cell_type": "code",
   "execution_count": null,
   "id": "7e10e599-5a27-42d7-aaba-24591989873f",
   "metadata": {},
   "outputs": [],
   "source": [
    "response = client.responses.parse(\n",
    "    model=\"gpt-4o\",\n",
    "    input=[\n",
    "        {\n",
    "            \"role\": \"user\",\n",
    "            \"content\": \"Generate a sample user for test purposes\",\n",
    "        },\n",
    "    ],\n",
    "    text_format=User,\n",
    ")"
   ]
  },
  {
   "cell_type": "code",
   "execution_count": null,
   "id": "41ada664-a58c-49c5-9771-901a9a5e25d0",
   "metadata": {},
   "outputs": [],
   "source": [
    "response.output[0].content[0].text"
   ]
  },
  {
   "cell_type": "markdown",
   "id": "936e4e6e-567b-4842-ad4c-398d899eb3cd",
   "metadata": {},
   "source": [
    "`'{\"username\":\"test_user123\",\"password\":\"secureP@ssw0rd!\",\"is_admin\":false}'`"
   ]
  },
  {
   "cell_type": "markdown",
   "id": "c057c723-aa39-4261-b2a8-1bea034d9e66",
   "metadata": {},
   "source": [
    "---"
   ]
  },
  {
   "cell_type": "code",
   "execution_count": null,
   "id": "1f31b20c-315f-4b17-a330-9fca3b3a889e",
   "metadata": {},
   "outputs": [],
   "source": [
    "response.output_parsed"
   ]
  },
  {
   "cell_type": "markdown",
   "id": "33a7fd55-0247-42dc-9a44-7102e97f7d04",
   "metadata": {},
   "source": [
    "`User(username='test_user123', password='secureP@ssw0rd!', is_admin=False)`"
   ]
  }
 ],
 "metadata": {
  "kernelspec": {
   "display_name": "Python 3 (ipykernel)",
   "language": "python",
   "name": "python3"
  },
  "language_info": {
   "codemirror_mode": {
    "name": "ipython",
    "version": 3
   },
   "file_extension": ".py",
   "mimetype": "text/x-python",
   "name": "python",
   "nbconvert_exporter": "python",
   "pygments_lexer": "ipython3",
   "version": "3.11.8"
  }
 },
 "nbformat": 4,
 "nbformat_minor": 5
}
