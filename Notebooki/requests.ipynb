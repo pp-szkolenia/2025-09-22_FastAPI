{
 "cells": [
  {
   "cell_type": "markdown",
   "id": "618aed0c-34f3-4a49-8756-b1bdbaa4591f",
   "metadata": {},
   "source": [
    "# Biblioteka `requests` jako klient API"
   ]
  },
  {
   "cell_type": "code",
   "execution_count": null,
   "id": "30920078-2a04-4017-93c4-084633c5a846",
   "metadata": {},
   "outputs": [],
   "source": [
    "import requests\n",
    "from urllib.parse import urljoin"
   ]
  },
  {
   "cell_type": "code",
   "execution_count": null,
   "id": "07558f83-0c8d-49b3-82c7-cc1089110640",
   "metadata": {},
   "outputs": [],
   "source": [
    "main_url = \"http://localhost:8000\""
   ]
  },
  {
   "cell_type": "markdown",
   "id": "f2c5ca61-a555-4356-a2bb-18fb1c8b1477",
   "metadata": {},
   "source": [
    "## `get`"
   ]
  },
  {
   "cell_type": "markdown",
   "id": "f08e0b6b-2d3c-4103-8c17-989f5cf93d62",
   "metadata": {},
   "source": [
    "**root**"
   ]
  },
  {
   "cell_type": "code",
   "execution_count": null,
   "id": "d0bb18b4-8c05-47db-b5b8-16416ffe33ef",
   "metadata": {},
   "outputs": [],
   "source": [
    "response = requests.get(main_url)\n",
    "response"
   ]
  },
  {
   "cell_type": "code",
   "execution_count": null,
   "id": "2ec55e6d-ab25-4459-a123-fc9b625a3561",
   "metadata": {},
   "outputs": [],
   "source": [
    "response.json()"
   ]
  },
  {
   "cell_type": "markdown",
   "id": "fa5edddc-2218-4388-986d-e2a928fd017b",
   "metadata": {},
   "source": [
    "**All tasks**"
   ]
  },
  {
   "cell_type": "code",
   "execution_count": null,
   "id": "971f3941-4b71-42f7-a8b4-33bc9c6364d3",
   "metadata": {},
   "outputs": [],
   "source": [
    "response = requests.get(urljoin(main_url, \"tasks\"))\n",
    "response"
   ]
  },
  {
   "cell_type": "code",
   "execution_count": null,
   "id": "76ba7c25-dfbb-4e3b-88c1-74d14c29c412",
   "metadata": {},
   "outputs": [],
   "source": [
    "response.url"
   ]
  },
  {
   "cell_type": "code",
   "execution_count": null,
   "id": "ff6f7037-12df-46a1-899e-af64c6f642bb",
   "metadata": {},
   "outputs": [],
   "source": [
    "response.json()"
   ]
  },
  {
   "cell_type": "markdown",
   "id": "6dd5db41-e527-4d03-91e0-fe2ab97991c3",
   "metadata": {},
   "source": [
    "**Single task**"
   ]
  },
  {
   "cell_type": "code",
   "execution_count": null,
   "id": "bbe88361-66a0-4f15-9d88-0f32092ac106",
   "metadata": {},
   "outputs": [],
   "source": [
    "task_id = 1\n",
    "\n",
    "response = requests.get(urljoin(main_url, f\"tasks/{task_id}\"))\n",
    "response"
   ]
  },
  {
   "cell_type": "code",
   "execution_count": null,
   "id": "21f0e2d5-8c3d-4bd2-a306-96cc5b292aad",
   "metadata": {},
   "outputs": [],
   "source": [
    "response.url"
   ]
  },
  {
   "cell_type": "code",
   "execution_count": null,
   "id": "e1bc91ee-949d-4d90-a2e9-d0884573ed3a",
   "metadata": {},
   "outputs": [],
   "source": [
    "response.json()"
   ]
  },
  {
   "cell_type": "markdown",
   "id": "512f0a7e-ff5f-4e1b-8de7-750ae35cf3bc",
   "metadata": {},
   "source": [
    "## `post`"
   ]
  },
  {
   "cell_type": "code",
   "execution_count": null,
   "id": "499fba89-2474-46d7-892e-69a9b1e3c16b",
   "metadata": {},
   "outputs": [],
   "source": [
    "task = {\"description\": \"Opis zadania\", \"priority\": 1}"
   ]
  },
  {
   "cell_type": "code",
   "execution_count": null,
   "id": "09f8b93e-c349-4968-a8c2-e3f70aa05c92",
   "metadata": {},
   "outputs": [],
   "source": [
    "response = requests.post(urljoin(main_url, \"tasks\"), json=task)\n",
    "response"
   ]
  },
  {
   "cell_type": "code",
   "execution_count": null,
   "id": "8b2d8ab1-7154-4829-9fa8-178f52bbc7f0",
   "metadata": {},
   "outputs": [],
   "source": [
    "response.json()"
   ]
  },
  {
   "cell_type": "markdown",
   "id": "a996ba19-45d9-4c4e-824d-300017c9d2de",
   "metadata": {},
   "source": [
    "## `put`"
   ]
  },
  {
   "cell_type": "code",
   "execution_count": null,
   "id": "94586e9f-bf96-452b-bf22-75044f0d978c",
   "metadata": {},
   "outputs": [],
   "source": [
    "updated_task = {\"description\": \"Opis zadania\", \"priority\": 2, \"is_completed\": True}"
   ]
  },
  {
   "cell_type": "code",
   "execution_count": null,
   "id": "3d39ba5b-44a9-4f96-9891-ee3c9ee90972",
   "metadata": {},
   "outputs": [],
   "source": [
    "task_id = 3\n",
    "response = requests.put(urljoin(main_url, f\"tasks/{task_id}\"), json=updated_task)\n",
    "response"
   ]
  },
  {
   "cell_type": "code",
   "execution_count": null,
   "id": "08dcebd1-f656-40ed-9fb6-063fad46cb9f",
   "metadata": {},
   "outputs": [],
   "source": [
    "response.json()"
   ]
  },
  {
   "cell_type": "markdown",
   "id": "a9312832-aa7f-45b4-9674-d85983cf420e",
   "metadata": {},
   "source": [
    "## `delete`"
   ]
  },
  {
   "cell_type": "code",
   "execution_count": null,
   "id": "fc35bc88-1994-423d-a0c8-ebfb79e45d80",
   "metadata": {},
   "outputs": [],
   "source": [
    "task_id = 3\n",
    "\n",
    "response = requests.delete(urljoin(main_url, f\"tasks/{task_id}\"))\n",
    "response"
   ]
  },
  {
   "cell_type": "code",
   "execution_count": null,
   "id": "4d5b802b-3b56-4f59-b1f5-8c24f15f5494",
   "metadata": {},
   "outputs": [],
   "source": [
    "response.text"
   ]
  },
  {
   "cell_type": "markdown",
   "id": "bb018aef-b5c4-4b40-a06f-71cf5fcd2f37",
   "metadata": {},
   "source": [
    "> **ZADANIE**\n",
    "\n",
    "Wykonaj analogiczne requesty dla userów."
   ]
  },
  {
   "cell_type": "code",
   "execution_count": null,
   "id": "45b8d82f-5298-492d-bff4-85b75e44f909",
   "metadata": {},
   "outputs": [],
   "source": []
  }
 ],
 "metadata": {
  "kernelspec": {
   "display_name": "Python 3 (ipykernel)",
   "language": "python",
   "name": "python3"
  },
  "language_info": {
   "codemirror_mode": {
    "name": "ipython",
    "version": 3
   },
   "file_extension": ".py",
   "mimetype": "text/x-python",
   "name": "python",
   "nbconvert_exporter": "python",
   "pygments_lexer": "ipython3",
   "version": "3.12.7"
  }
 },
 "nbformat": 4,
 "nbformat_minor": 5
}
